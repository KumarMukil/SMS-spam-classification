{
 "cells": [
  {
   "cell_type": "code",
   "execution_count": null,
   "id": "64289a75",
   "metadata": {},
   "outputs": [],
   "source": [
    "# 📦 Imports\n",
    "import pandas as pd\n",
    "import seaborn as sns\n",
    "import matplotlib.pyplot as plt\n",
    "from wordcloud import WordCloud\n",
    "import string\n",
    "import re\n",
    "import joblib\n",
    "\n",
    "from sklearn.model_selection import train_test_split\n",
    "from sklearn.feature_extraction.text import TfidfVectorizer\n",
    "from sklearn.naive_bayes import MultinomialNB\n",
    "from sklearn.linear_model import LogisticRegression\n",
    "from sklearn.svm import LinearSVC\n",
    "from sklearn.ensemble import RandomForestClassifier\n",
    "from sklearn.metrics import accuracy_score, classification_report\n",
    "from sklearn.pipeline import Pipeline"
   ]
  },
  {
   "cell_type": "code",
   "execution_count": null,
   "id": "702fa454",
   "metadata": {},
   "outputs": [],
   "source": [
    "# 🔹 Step 2: EDA (Exploratory Data Analysis)\n",
    "df['length'] = df['message'].apply(len)\n",
    "label_counts = df['label'].value_counts()"
   ]
  },
  {
   "cell_type": "code",
   "execution_count": null,
   "id": "6bd7c583",
   "metadata": {},
   "outputs": [],
   "source": [
    "# Word clouds\n",
    "spam_words = ' '.join(df[df['label'] == 1]['message'])\n",
    "ham_words = ' '.join(df[df['label'] == 0]['message'])"
   ]
  },
  {
   "cell_type": "code",
   "execution_count": null,
   "id": "11decbdb",
   "metadata": {},
   "outputs": [],
   "source": [
    "# Show plots\n",
    "plt.figure(figsize=(14, 6))\n",
    "plt.subplot(1, 2, 1)\n",
    "sns.barplot(x=label_counts.index, y=label_counts.values)\n",
    "plt.xticks([0, 1], ['Ham', 'Spam'])\n",
    "plt.title(\"Class Distribution\")\n",
    "\n",
    "plt.subplot(1, 2, 2)\n",
    "sns.histplot(data=df, x='length', hue='label', bins=50, palette='husl')\n",
    "plt.title(\"Message Length Distribution\")\n",
    "plt.tight_layout()\n",
    "plt.show()"
   ]
  },
  {
   "cell_type": "code",
   "execution_count": null,
   "id": "e8cee1a5",
   "metadata": {},
   "outputs": [],
   "source": [
    "# Word clouds\n",
    "wc1 = WordCloud(width=600, height=400, background_color='white').generate(spam_words)\n",
    "wc2 = WordCloud(width=600, height=400, background_color='white').generate(ham_words)\n",
    "\n",
    "plt.figure(figsize=(12, 6))\n",
    "plt.subplot(1, 2, 1)\n",
    "plt.imshow(wc1, interpolation='bilinear')\n",
    "plt.axis('off')\n",
    "plt.title(\"Spam Word Cloud\")\n",
    "\n",
    "plt.subplot(1, 2, 2)\n",
    "plt.imshow(wc2, interpolation='bilinear')\n",
    "plt.axis('off')\n",
    "plt.title(\"Ham Word Cloud\")\n",
    "plt.tight_layout()\n",
    "plt.show()"
   ]
  },
  {
   "cell_type": "code",
   "execution_count": null,
   "id": "4afd9226",
   "metadata": {},
   "outputs": [],
   "source": [
    "# 🔹 Step 3: Preprocessing\n",
    "def clean_text(text):\n",
    "    text = text.lower()\n",
    "    text = re.sub(r'\\d+', '', text)\n",
    "    text = text.translate(str.maketrans('', '', string.punctuation))\n",
    "    return text\n",
    "\n",
    "df['clean_message'] = df['message'].apply(clean_text)"
   ]
  },
  {
   "cell_type": "code",
   "execution_count": null,
   "id": "bd136e5f",
   "metadata": {},
   "outputs": [],
   "source": [
    "# 🔹 Step 4: Train-Test Split\n",
    "X_train, X_test, y_train, y_test = train_test_split(\n",
    "    df['clean_message'], df['label'], test_size=0.3, random_state=42)"
   ]
  },
  {
   "cell_type": "code",
   "execution_count": null,
   "id": "0401b241",
   "metadata": {},
   "outputs": [],
   "source": [
    "# 🔹 Step 5: Vectorization\n",
    "vectorizer = TfidfVectorizer(stop_words='english')\n",
    "X_train_vec = vectorizer.fit_transform(X_train)\n",
    "X_test_vec = vectorizer.transform(X_test)"
   ]
  },
  {
   "cell_type": "code",
   "execution_count": null,
   "id": "a16a4717",
   "metadata": {},
   "outputs": [],
   "source": [
    "# 🔹 Step 6: Try Multiple Models\n",
    "def evaluate_model(model, name):\n",
    "    model.fit(X_train_vec, y_train)\n",
    "    preds = model.predict(X_test_vec)\n",
    "    acc = accuracy_score(y_test, preds)\n",
    "    print(f\"{name} Accuracy: {acc:.4f}\")\n",
    "    return name, acc, model\n",
    "\n",
    "results = []\n",
    "results.append(evaluate_model(MultinomialNB(), \"MultinomialNB\"))\n",
    "results.append(evaluate_model(LogisticRegression(max_iter=1000), \"Logistic Regression\"))\n",
    "results.append(evaluate_model(LinearSVC(), \"Linear SVM\"))\n",
    "results.append(evaluate_model(RandomForestClassifier(), \"Random Forest\"))"
   ]
  },
  {
   "cell_type": "code",
   "execution_count": null,
   "id": "56148516",
   "metadata": {},
   "outputs": [],
   "source": [
    "# 🔹 Step 7: Select Best Model\n",
    "best_model_info = max(results, key=lambda x: x[1])\n",
    "best_name, best_acc, best_model = best_model_info\n",
    "print(f\"\\n✅ Best Model: {best_name} with Accuracy: {best_acc:.4f}\")"
   ]
  },
  {
   "cell_type": "code",
   "execution_count": null,
   "id": "9c4ce106",
   "metadata": {},
   "outputs": [],
   "source": [
    "# 🔹 Step 8: Final Classification Report\n",
    "final_preds = best_model.predict(X_test_vec)\n",
    "print(\"\\nClassification Report:\\n\")\n",
    "print(classification_report(y_test, final_preds, target_names=['ham', 'spam']))"
   ]
  },
  {
   "cell_type": "code",
   "execution_count": null,
   "id": "daa0b517",
   "metadata": {},
   "outputs": [],
   "source": [
    "# 🔹 Step 9: Build Final Pipeline on Full Data\n",
    "final_pipeline = Pipeline([\n",
    "    ('tfidf', TfidfVectorizer(stop_words='english')),\n",
    "    ('svm', LinearSVC())  # use best model name if different\n",
    "])\n",
    "final_pipeline.fit(df['clean_message'], df['label'])"
   ]
  },
  {
   "cell_type": "code",
   "execution_count": null,
   "id": "d88f07d8",
   "metadata": {},
   "outputs": [],
   "source": [
    "# 🔹 Step 10: Save the Final Model\n",
    "joblib.dump(final_pipeline, \"sms_spam_classifier_svm.pkl\")\n",
    "print(\"\\n✅ Final model saved as 'sms_spam_classifier_svm.pkl'\")"
   ]
  }
 ],
 "metadata": {
  "kernelspec": {
   "display_name": "Python 3",
   "language": "python",
   "name": "python3"
  },
  "language_info": {
   "name": "python",
   "version": "3.12.2"
  }
 },
 "nbformat": 4,
 "nbformat_minor": 5
}
