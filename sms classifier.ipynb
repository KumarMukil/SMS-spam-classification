{
 "cells": [
  {
   "cell_type": "code",
   "execution_count": 1,
   "id": "aec8164e",
   "metadata": {},
   "outputs": [],
   "source": [
    "import streamlit as st\n",
    "import joblib\n",
    "import pandas as pd\n",
    "import re\n",
    "import string\n",
    "from sklearn.feature_extraction.text import TfidfVectorizer\n",
    "from sklearn.svm import LinearSVC\n",
    "from sklearn.pipeline import Pipeline"
   ]
  },
  {
   "cell_type": "code",
   "execution_count": 2,
   "id": "56cb0aa2",
   "metadata": {},
   "outputs": [
    {
     "name": "stdout",
     "output_type": "stream",
     "text": [
      "✅ Model loaded successfully!\n"
     ]
    }
   ],
   "source": [
    "model = joblib.load(\"C:\\\\Users\\\\ASUS\\\\OneDrive\\\\Documents\\\\LLM\\\\sms_spam_classifier_svm.pkl\")\n",
    "print(\"✅ Model loaded successfully!\")\n",
    "# -----------------------------\n",
    "# Load or Train Model (Fallback)\n",
    "# -----------------------------\n",
    "@st.cache_resource\n",
    "def load_model():\n",
    "    try:\n",
    "        return joblib.load(\"C:\\\\Users\\\\ASUS\\\\OneDrive\\\\Documents\\\\LLM\\\\sms_spam_classifier_svm.pkl\")\n",
    "    except:\n",
    "        # Train a dummy fallback model if file not found\n",
    "        df = pd.read_csv(\"spam.csv\", encoding='latin-1')[['v1', 'v2']]\n",
    "        df.columns = ['label', 'message']\n",
    "        df['label'] = df['label'].map({'ham': 0, 'spam': 1})\n",
    "        df['message'] = df['message'].apply(clean_text)\n",
    "\n",
    "        pipe = Pipeline([\n",
    "            ('tfidf', TfidfVectorizer(stop_words='english')),\n",
    "            ('svm', LinearSVC())\n",
    "        ])\n",
    "        pipe.fit(df['message'], df['label'])\n",
    "        joblib.dump(pipe, \"sms_spam_classifier_svm.pkl\")\n",
    "        return pipe"
   ]
  },
  {
   "cell_type": "code",
   "execution_count": 3,
   "id": "5cbd35cc",
   "metadata": {},
   "outputs": [],
   "source": [
    "# -----------------------------\n",
    "# Clean text helper\n",
    "# -----------------------------\n",
    "def clean_text(text):\n",
    "    text = text.lower()\n",
    "    text = re.sub(r'\\d+', '', text)\n",
    "    text = text.translate(str.maketrans('', '', string.punctuation))\n",
    "    return text"
   ]
  },
  {
   "cell_type": "code",
   "execution_count": 4,
   "id": "abfbc115",
   "metadata": {},
   "outputs": [
    {
     "name": "stderr",
     "output_type": "stream",
     "text": [
      "2025-06-29 13:45:08.289 WARNING streamlit.runtime.scriptrunner_utils.script_run_context: Thread 'MainThread': missing ScriptRunContext! This warning can be ignored when running in bare mode.\n",
      "2025-06-29 13:45:08.290 WARNING streamlit.runtime.scriptrunner_utils.script_run_context: Thread 'MainThread': missing ScriptRunContext! This warning can be ignored when running in bare mode.\n",
      "2025-06-29 13:45:09.120 \n",
      "  \u001b[33m\u001b[1mWarning:\u001b[0m to view this Streamlit app on a browser, run it with the following\n",
      "  command:\n",
      "\n",
      "    streamlit run C:\\Users\\ASUS\\AppData\\Roaming\\Python\\Python312\\site-packages\\ipykernel_launcher.py [ARGUMENTS]\n",
      "2025-06-29 13:45:09.122 Thread 'MainThread': missing ScriptRunContext! This warning can be ignored when running in bare mode.\n",
      "2025-06-29 13:45:09.123 Thread 'MainThread': missing ScriptRunContext! This warning can be ignored when running in bare mode.\n",
      "2025-06-29 13:45:09.124 Thread 'MainThread': missing ScriptRunContext! This warning can be ignored when running in bare mode.\n"
     ]
    },
    {
     "data": {
      "text/plain": [
       "DeltaGenerator()"
      ]
     },
     "execution_count": 4,
     "metadata": {},
     "output_type": "execute_result"
    }
   ],
   "source": [
    "# -----------------------------\n",
    "# Streamlit UI\n",
    "# -----------------------------\n",
    "st.set_page_config(page_title=\"SMS Spam Classifier\", layout=\"centered\")\n",
    "st.title(\"📲 SMS Spam Classifier\")\n",
    "st.markdown(\"Enter an SMS message below to check if it's **Spam** or **Ham**.\")"
   ]
  },
  {
   "cell_type": "code",
   "execution_count": 5,
   "id": "9d163a24",
   "metadata": {},
   "outputs": [
    {
     "name": "stderr",
     "output_type": "stream",
     "text": [
      "2025-06-29 13:45:09.151 Thread 'MainThread': missing ScriptRunContext! This warning can be ignored when running in bare mode.\n",
      "2025-06-29 13:45:09.153 Thread 'MainThread': missing ScriptRunContext! This warning can be ignored when running in bare mode.\n",
      "2025-06-29 13:45:09.155 Thread 'MainThread': missing ScriptRunContext! This warning can be ignored when running in bare mode.\n",
      "2025-06-29 13:45:09.182 Thread 'MainThread': missing ScriptRunContext! This warning can be ignored when running in bare mode.\n",
      "2025-06-29 13:45:09.183 Thread 'MainThread': missing ScriptRunContext! This warning can be ignored when running in bare mode.\n"
     ]
    }
   ],
   "source": [
    "# Load model\n",
    "model = load_model()"
   ]
  },
  {
   "cell_type": "code",
   "execution_count": 6,
   "id": "b8d0c143",
   "metadata": {},
   "outputs": [
    {
     "name": "stderr",
     "output_type": "stream",
     "text": [
      "2025-06-29 13:45:09.192 Thread 'MainThread': missing ScriptRunContext! This warning can be ignored when running in bare mode.\n",
      "2025-06-29 13:45:09.193 Thread 'MainThread': missing ScriptRunContext! This warning can be ignored when running in bare mode.\n",
      "2025-06-29 13:45:09.194 Thread 'MainThread': missing ScriptRunContext! This warning can be ignored when running in bare mode.\n",
      "2025-06-29 13:45:09.194 Thread 'MainThread': missing ScriptRunContext! This warning can be ignored when running in bare mode.\n",
      "2025-06-29 13:45:09.195 Session state does not function when running a script without `streamlit run`\n",
      "2025-06-29 13:45:09.196 Thread 'MainThread': missing ScriptRunContext! This warning can be ignored when running in bare mode.\n",
      "2025-06-29 13:45:09.196 Thread 'MainThread': missing ScriptRunContext! This warning can be ignored when running in bare mode.\n"
     ]
    }
   ],
   "source": [
    "# Text input\n",
    "user_input = st.text_area(\"📩 Enter SMS message here:\", height=150)"
   ]
  },
  {
   "cell_type": "code",
   "execution_count": 7,
   "id": "6ced99e6",
   "metadata": {},
   "outputs": [
    {
     "name": "stderr",
     "output_type": "stream",
     "text": [
      "2025-06-29 13:45:09.208 Thread 'MainThread': missing ScriptRunContext! This warning can be ignored when running in bare mode.\n",
      "2025-06-29 13:45:09.209 Thread 'MainThread': missing ScriptRunContext! This warning can be ignored when running in bare mode.\n",
      "2025-06-29 13:45:09.209 Thread 'MainThread': missing ScriptRunContext! This warning can be ignored when running in bare mode.\n",
      "2025-06-29 13:45:09.210 Thread 'MainThread': missing ScriptRunContext! This warning can be ignored when running in bare mode.\n",
      "2025-06-29 13:45:09.211 Thread 'MainThread': missing ScriptRunContext! This warning can be ignored when running in bare mode.\n"
     ]
    }
   ],
   "source": [
    "# Predict\n",
    "if st.button(\"🔍 Classify Message\"):\n",
    "    if user_input.strip() == \"\":\n",
    "        st.warning(\"⚠️ Please enter a message to classify.\")\n",
    "    else:\n",
    "        cleaned_input = clean_text(user_input)\n",
    "        prediction = model.predict([cleaned_input])[0]\n",
    "        label = \"🚫 Spam\" if prediction == 1 else \"✅ Ham\"\n",
    "        st.markdown(f\"### Result: {label}\")"
   ]
  },
  {
   "cell_type": "code",
   "execution_count": 8,
   "id": "730c5354",
   "metadata": {},
   "outputs": [
    {
     "name": "stderr",
     "output_type": "stream",
     "text": [
      "2025-06-29 13:45:09.221 Thread 'MainThread': missing ScriptRunContext! This warning can be ignored when running in bare mode.\n",
      "2025-06-29 13:45:09.222 Thread 'MainThread': missing ScriptRunContext! This warning can be ignored when running in bare mode.\n",
      "2025-06-29 13:45:09.223 Thread 'MainThread': missing ScriptRunContext! This warning can be ignored when running in bare mode.\n",
      "2025-06-29 13:45:09.224 Thread 'MainThread': missing ScriptRunContext! This warning can be ignored when running in bare mode.\n",
      "2025-06-29 13:45:09.224 Thread 'MainThread': missing ScriptRunContext! This warning can be ignored when running in bare mode.\n"
     ]
    }
   ],
   "source": [
    "# Optionally download model\n",
    "if st.button(\"💾 Save Trained Model\"):\n",
    "    joblib.dump(model, \"sms_spam_classifier_svm.pkl\")\n",
    "    st.success(\"Model saved as `sms_spam_classifier_svm.pkl` ✅\")"
   ]
  }
 ],
 "metadata": {
  "kernelspec": {
   "display_name": "Python 3",
   "language": "python",
   "name": "python3"
  },
  "language_info": {
   "codemirror_mode": {
    "name": "ipython",
    "version": 3
   },
   "file_extension": ".py",
   "mimetype": "text/x-python",
   "name": "python",
   "nbconvert_exporter": "python",
   "pygments_lexer": "ipython3",
   "version": "3.12.2"
  }
 },
 "nbformat": 4,
 "nbformat_minor": 5
}
